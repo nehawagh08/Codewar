{
 "cells": [
  {
   "cell_type": "code",
   "execution_count": 1,
   "id": "2595a1cc",
   "metadata": {},
   "outputs": [],
   "source": [
    "#Codewar"
   ]
  },
  {
   "cell_type": "code",
   "execution_count": 9,
   "id": "9adc05d6",
   "metadata": {},
   "outputs": [
    {
     "name": "stdout",
     "output_type": "stream",
     "text": [
      "153\n",
      "Yes\n"
     ]
    }
   ],
   "source": [
    "'''Question 1 →\n",
    "Armstrong Numbers →\n",
    "\n",
    "For a given 3 digit number, find whether it is Armstrong number or not. An Armstrong number of three digits is an integer such that the sum of the cubes of its digits is equal to the number itself. Return “Yes” if it is a Armstrong number else return “No”.\n",
    "NOTE: 371 is an Armstrong number since 33 + 73 + 13 = 371\n",
    "\n",
    "Input: N = 153Output: \"Yes\"Explanation: 153 is an Armstrong numbersince 13 + 53 + 33 = 153.Hence answer is \"Yes\". \n",
    "'''\n",
    "\n",
    "N=int(input())\n",
    "temp=N\n",
    "a=0\n",
    "while temp>0:\n",
    "    r=temp%10\n",
    "    a=a+r**3\n",
    "    temp=temp//10\n",
    "if N==a:\n",
    "    print('Yes')\n",
    "else:\n",
    "    print('No')"
   ]
  },
  {
   "cell_type": "code",
   "execution_count": 19,
   "id": "fb84de4b",
   "metadata": {},
   "outputs": [
    {
     "name": "stdout",
     "output_type": "stream",
     "text": [
      "5\n",
      "2 3 1 2 3 \n",
      "2 3 "
     ]
    }
   ],
   "source": [
    "'''Question 2 →\n",
    "Find duplicates in an array - >\n",
    "Given an array a of size N which contains elements from 0 to N-1, you need to find all the elements occurring more than once in the given array. Return the answer in ascending order. If no such element is found, return list containing [-1].\n",
    "\n",
    "Note: The extra space is only for the array to be returned. Try and perform all operations within the provided array.\n",
    "\n",
    "Example 1:\n",
    "\n",
    "Input:N = 4 a[] = {0,3,1,2} Output: -1 Explanation: There is no repeating element in the arr'''\n",
    "\n",
    "def findDuplicates(nums):\n",
    "    dic={}\n",
    "    duplicates=[]\n",
    "\n",
    "    for num in nums:\n",
    "        if num in dic:\n",
    "            dic[num]+=1\n",
    "        else:\n",
    "            dic[num]=1\n",
    "\n",
    "    for num, count in dic.items():\n",
    "        if count>1:\n",
    "            duplicates.append(num)\n",
    "\n",
    "    result=sorted(duplicates)\n",
    "    return result if result else [-1]\n",
    "n=int(input())\n",
    "arr=list(map(int,input().split()))\n",
    "x=findDuplicates(arr)\n",
    "for i in x:\n",
    "    print(i,end=\" \")\n",
    " "
   ]
  },
  {
   "cell_type": "code",
   "execution_count": 23,
   "id": "74d8dcd6",
   "metadata": {},
   "outputs": [
    {
     "name": "stdout",
     "output_type": "stream",
     "text": [
      "1->2->3->4->5->6\n",
      "Reversed linkedlist:\n",
      "6 5 4 3 2 1 \n"
     ]
    }
   ],
   "source": [
    "'''Reverse a linked list →\n",
    "Given a linked list of N nodes. The task is to reverse this list.\n",
    "\n",
    "Example 1:\n",
    "\n",
    "Input:LinkedList: 1->2->3->4->5->6Output: 6 5 4 3 2 1Explanation: After reversing the list, elements are 6->5->4->3->2->1. '''\n",
    "\n",
    "class ListNode:\n",
    "    def __init__(self, value=0, next=None):\n",
    "        self.value = value\n",
    "        self.next = next\n",
    "def reverseList(head):\n",
    "    prev=None\n",
    "    current=head\n",
    "    while current:\n",
    "        next_node=current.next\n",
    "        current.next=prev\n",
    "        prev=current\n",
    "        current=next_node\n",
    "    return prev\n",
    "\n",
    "def printList(head):\n",
    "    current=head\n",
    "    while current:\n",
    "        print(current.value, end=\" \")\n",
    "        current=current.next\n",
    "    print()\n",
    "\n",
    "l=list(map(int,input().split('->')))\n",
    "nodes = [ListNode(i) for i in l]\n",
    "for i in range(5):\n",
    "    nodes[i].next = nodes[i+1]\n",
    "head = nodes[0]\n",
    "reversed_head = reverseList(head)\n",
    "print(\"Reversed linkedlist:\")\n",
    "printList(reversed_head)\n"
   ]
  },
  {
   "cell_type": "code",
   "execution_count": null,
   "id": "6ac0f620",
   "metadata": {},
   "outputs": [],
   "source": []
  }
 ],
 "metadata": {
  "kernelspec": {
   "display_name": "Python 3 (ipykernel)",
   "language": "python",
   "name": "python3"
  },
  "language_info": {
   "codemirror_mode": {
    "name": "ipython",
    "version": 3
   },
   "file_extension": ".py",
   "mimetype": "text/x-python",
   "name": "python",
   "nbconvert_exporter": "python",
   "pygments_lexer": "ipython3",
   "version": "3.10.9"
  }
 },
 "nbformat": 4,
 "nbformat_minor": 5
}
